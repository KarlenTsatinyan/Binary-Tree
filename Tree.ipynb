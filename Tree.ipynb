{
 "cells": [
  {
   "cell_type": "markdown",
   "metadata": {},
   "source": [
    "# Binary Tree"
   ]
  },
  {
   "cell_type": "code",
   "execution_count": 47,
   "metadata": {},
   "outputs": [
    {
     "name": "stdout",
     "output_type": "stream",
     "text": [
      "1 2 5 3 6 4 "
     ]
    }
   ],
   "source": [
    "class treeNode:\n",
    "    def __init__(self, root):\n",
    "        self.left = None\n",
    "        self.right = None\n",
    "        self.root = root\n",
    "        \n",
    "    def insert(self, data):\n",
    "        if self.root:\n",
    "            if data < self.root:\n",
    "                if self.left == None:\n",
    "                    self.left = treeNode(data)\n",
    "                self.left.insert(data)\n",
    "            elif data > self.root:\n",
    "                if self.right == None:\n",
    "                    self.right = treeNode(data)\n",
    "                self.right.insert(data)\n",
    "        else:\n",
    "            self.root = data\n",
    "\n",
    "            \n",
    "    def print_inorder(self):\n",
    "        if self.left:\n",
    "            self.left.print_inorder()\n",
    "        print(self.root)\n",
    "        if self.right:\n",
    "            self.right.print_inorder()\n",
    "            \n",
    "    def print_preorder(self):\n",
    "        print(self.root)\n",
    "        if self.left:\n",
    "            self.left.print_preorder()\n",
    "        if self.right:\n",
    "            self.right.print_preorder()\n",
    "            \n",
    "    def print_postorder(self):\n",
    "        if self.left:\n",
    "            self.left.print_postorder()\n",
    "        if self.right:\n",
    "            self.right.print_postorder()\n",
    "        print(self.root)\n",
    "        \n",
    "    \n",
    "\n",
    "    def max_value(root):\n",
    "        if root == None:\n",
    "            return float(\"-inf\")\n",
    "        else:\n",
    "            if root.left:\n",
    "                left_max = root.left.max_value()\n",
    "\n",
    "            if root.right:\n",
    "                right_max = root.right.max_value()\n",
    "            \n",
    "            maxim = max(root, left_max, right_max)\n",
    "        print(maxim)\n",
    "\n",
    "def make_tree(arr, root, i,n):\n",
    "    if i<n:\n",
    "        root = treeNode(arr[i])\n",
    "        root.left = make_tree(arr, root.left,2*i+1,n)\n",
    "        root.right = make_tree(arr, root.right,2*i+2,n)\n",
    "    return root\n",
    "\n",
    "def print_inorder(val):\n",
    "    if val:\n",
    "        print_inorder(val.left)\n",
    "        print(val.root, end=\" \")\n",
    "        print_inorder(val.right)\n",
    "        \n",
    "if __name__ == \"__main__\":\n",
    "    arr=[3,2,4,1,5,6]\n",
    "    n=len(arr)\n",
    "    root=make_tree(arr,None,0,n)\n",
    "    print_inorder(root)\n",
    "\n",
    "\n",
    "my_tree=treeNode(23)\n",
    "my_tree.insert(25)\n",
    "my_tree.insert(13)\n",
    "my_tree.insert(50)\n",
    "my_tree.insert(20)\n",
    "my_tree.insert(11)\n",
    "my_tree.insert(21)\n",
    "my_tree.insert(5)\n",
    "my_tree.insert(12)\n",
    "my_tree.insert(24)\n",
    "#my_tree.print_inorder() \n",
    "#print(\"*\"*10)\n",
    "#my_tree.max_value()"
   ]
  },
  {
   "cell_type": "code",
   "execution_count": null,
   "metadata": {},
   "outputs": [],
   "source": []
  },
  {
   "cell_type": "code",
   "execution_count": 238,
   "metadata": {},
   "outputs": [
    {
     "name": "stdout",
     "output_type": "stream",
     "text": [
      "4 5 8 10 11 13 "
     ]
    }
   ],
   "source": [
    "class treeNode:\n",
    "    def __init__(self, root):\n",
    "        self.left = None\n",
    "        self.right = None\n",
    "        self.root = root\n",
    "    \n",
    "    def insert(self, val):\n",
    "        if self.root == None:\n",
    "            self.root = treeNode(val)\n",
    "    \n",
    "        else:\n",
    "            if self.root>val:\n",
    "                if self.left:\n",
    "                    self.left.insert(val)\n",
    "                else:\n",
    "                    self.left = treeNode(val)\n",
    "            if self.root<val:\n",
    "                if self.right:\n",
    "                    self.right.insert(val)\n",
    "                else:\n",
    "                    self.right = treeNode(val)\n",
    "    def printTree(self):\n",
    "        if self.left:\n",
    "            self.left.printTree()\n",
    "        print(self.root, end=\" \")\n",
    "        if self.right:\n",
    "            self.right.printTree()\n",
    "        \n",
    "        \n",
    "ttt=treeNode(10) \n",
    "ttt.insert(5)\n",
    "ttt.insert(8)\n",
    "ttt.insert(11)\n",
    "ttt.insert(4)\n",
    "ttt.insert(13)\n",
    "ttt.printTree()\n",
    "\n",
    "\n"
   ]
  },
  {
   "cell_type": "markdown",
   "metadata": {},
   "source": [
    "# Find Max Path in Matrix"
   ]
  },
  {
   "cell_type": "markdown",
   "metadata": {},
   "source": [
    "### Function to convert from List to Tree (Level Order Fashion)"
   ]
  },
  {
   "cell_type": "code",
   "execution_count": 41,
   "metadata": {},
   "outputs": [
    {
     "name": "stdout",
     "output_type": "stream",
     "text": [
      "0 0 9 2 5 1 6 3 0 "
     ]
    }
   ],
   "source": [
    "class TreeNode:\n",
    "    def __init__(self, data):\n",
    "        self.data = data\n",
    "        self.left = self.right = None\n",
    " \n",
    "# Function to insert nodes in level order\n",
    "def insertLevelOrder(arr, root, i, n):\n",
    "     \n",
    "    # Base case for recursion\n",
    "    if i < n:\n",
    "        temp = TreeNode(arr[i])\n",
    "        root = temp\n",
    " \n",
    "        # insert left child\n",
    "        root.left = insertLevelOrder(arr, root.left, 2 * i + 1, n)\n",
    " \n",
    "        # insert right child\n",
    "        root.right = insertLevelOrder(arr, root.right, 2 * i + 2, n)\n",
    "    return root\n",
    " \n",
    "# Function to print tree nodes in InOrder fashion\n",
    "def inOrder(root):\n",
    "    if root != None:\n",
    "        inOrder(root.left)\n",
    "        print(root.data, end=\" \")\n",
    "        inOrder(root.right)\n",
    " \n",
    "# Driver Code\n",
    "\n",
    "# Converting matrix to List\n",
    "from itertools import chain\n",
    "matrix=[[1,2,3],[0,5,6],[0,0,9]]\n",
    "arr=list(chain(*matrix))\n",
    "\n",
    "n = len(arr)\n",
    "root = None\n",
    "root = insertLevelOrder(arr, root, 0, n)\n",
    "inOrder(root) #shows tree nodes InOrder fashion\n",
    "      \n"
   ]
  },
  {
   "cell_type": "markdown",
   "metadata": {},
   "source": [
    "### Fonction to find Max Path Sum in a tree"
   ]
  },
  {
   "cell_type": "code",
   "execution_count": 42,
   "metadata": {},
   "outputs": [
    {
     "name": "stdout",
     "output_type": "stream",
     "text": [
      "(12, ['l', 'l', 'r'])\n"
     ]
    }
   ],
   "source": [
    "def max_sum(node, path):\n",
    "    ls = rs = 0\n",
    "    lp = rp = path\n",
    "    if node.left:\n",
    "        ls, lp = max_sum(node.left, path + ['l'])\n",
    "    if node.right:\n",
    "        rs, rp = max_sum(node.right, path + ['r'])\n",
    "    ls += node.data\n",
    "    rs += node.data\n",
    "    return (ls, lp) if ls > rs else (rs, rp)\n",
    "print(max_sum(root, []))"
   ]
  },
  {
   "cell_type": "code",
   "execution_count": 24,
   "metadata": {},
   "outputs": [
    {
     "data": {
      "text/plain": [
       "[1, 2, 3, 4, 5, 6, 7, 8, 9]"
      ]
     },
     "execution_count": 24,
     "metadata": {},
     "output_type": "execute_result"
    }
   ],
   "source": []
  },
  {
   "cell_type": "code",
   "execution_count": 4,
   "metadata": {},
   "outputs": [
    {
     "data": {
      "text/plain": [
       "{'r': 7, 's': 1, 'm': 9}"
      ]
     },
     "execution_count": 4,
     "metadata": {},
     "output_type": "execute_result"
    }
   ]
   
